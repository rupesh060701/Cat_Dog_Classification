{
 "cells": [
  {
   "cell_type": "code",
   "execution_count": 3,
   "id": "c85db972-c5cc-467e-88a2-122afce67b80",
   "metadata": {},
   "outputs": [
    {
     "name": "stdout",
     "output_type": "stream",
     "text": [
      "WARNING:tensorflow:From C:\\Users\\User\\AppData\\Local\\Programs\\Python\\Python311\\Lib\\site-packages\\keras\\src\\losses.py:2976: The name tf.losses.sparse_softmax_cross_entropy is deprecated. Please use tf.compat.v1.losses.sparse_softmax_cross_entropy instead.\n",
      "\n"
     ]
    }
   ],
   "source": [
    "import pandas as pd\n",
    "import tensorflow as tf\n",
    "from keras.preprocessing.image import ImageDataGenerator"
   ]
  },
  {
   "cell_type": "code",
   "execution_count": 5,
   "id": "75da88b8-dcee-4cf9-bd39-b7d98a5a8c61",
   "metadata": {},
   "outputs": [
    {
     "name": "stdout",
     "output_type": "stream",
     "text": [
      "Found 8000 images belonging to 2 classes.\n"
     ]
    }
   ],
   "source": [
    "train_datagen = ImageDataGenerator(rescale = 1./255,\n",
    "                                   shear_range = 0.2,\n",
    "                                   zoom_range = 0.2,\n",
    "                                   horizontal_flip = True)\n",
    "\n",
    "train_generator = train_datagen.flow_from_directory(\n",
    "                                    'dataset/training_set',\n",
    "                                    target_size=(64,64),\n",
    "                                    batch_size=32,\n",
    "                                    class_mode='binary')"
   ]
  },
  {
   "cell_type": "code",
   "execution_count": 6,
   "id": "c364e049-3bb1-4e28-a89f-e6d0111937d5",
   "metadata": {},
   "outputs": [
    {
     "name": "stdout",
     "output_type": "stream",
     "text": [
      "Found 2000 images belonging to 2 classes.\n"
     ]
    }
   ],
   "source": [
    "test_datagen = ImageDataGenerator(rescale=1./255)\n",
    "test_generator = test_datagen.flow_from_directory(\n",
    "        'dataset/test_set',\n",
    "        target_size=(64,64),\n",
    "        batch_size=32,\n",
    "        class_mode='binary')"
   ]
  },
  {
   "cell_type": "code",
   "execution_count": null,
   "id": "2a9be182-4245-4c6d-90ea-92c868547c5c",
   "metadata": {},
   "outputs": [],
   "source": [
    "# Building the Model"
   ]
  },
  {
   "cell_type": "code",
   "execution_count": 7,
   "id": "febb38e9-5f2a-422a-b65e-e3ae80e757db",
   "metadata": {},
   "outputs": [
    {
     "name": "stdout",
     "output_type": "stream",
     "text": [
      "WARNING:tensorflow:From C:\\Users\\User\\AppData\\Local\\Programs\\Python\\Python311\\Lib\\site-packages\\keras\\src\\backend.py:873: The name tf.get_default_graph is deprecated. Please use tf.compat.v1.get_default_graph instead.\n",
      "\n"
     ]
    }
   ],
   "source": [
    "cnn_model=tf.keras.models.Sequential()"
   ]
  },
  {
   "cell_type": "code",
   "execution_count": 8,
   "id": "8554e0ab-2732-47b0-bb2b-a171474eb0fa",
   "metadata": {},
   "outputs": [],
   "source": [
    "cnn_model.add(tf.keras.layers.Conv2D(filters=32, kernel_size=3, activation='relu', input_shape=[64, 64, 3]))"
   ]
  },
  {
   "cell_type": "code",
   "execution_count": 9,
   "id": "93452640-cd1a-4d6f-b9a7-6cd520607fcb",
   "metadata": {},
   "outputs": [
    {
     "name": "stdout",
     "output_type": "stream",
     "text": [
      "WARNING:tensorflow:From C:\\Users\\User\\AppData\\Local\\Programs\\Python\\Python311\\Lib\\site-packages\\keras\\src\\layers\\pooling\\max_pooling2d.py:161: The name tf.nn.max_pool is deprecated. Please use tf.nn.max_pool2d instead.\n",
      "\n"
     ]
    }
   ],
   "source": [
    "cnn_model.add(tf.keras.layers.MaxPool2D(pool_size=2,strides=2))"
   ]
  },
  {
   "cell_type": "code",
   "execution_count": 10,
   "id": "1a4a3044-6880-4d3c-8f77-346a18c8c0bf",
   "metadata": {},
   "outputs": [],
   "source": [
    "cnn_model.add(tf.keras.layers.Conv2D(filters=32, kernel_size=3, activation='relu'))\n",
    "cnn_model.add(tf.keras.layers.MaxPool2D(pool_size=2, strides=2))"
   ]
  },
  {
   "cell_type": "code",
   "execution_count": 11,
   "id": "316a098c-accc-422c-8190-3984de2eabc2",
   "metadata": {},
   "outputs": [],
   "source": [
    "cnn_model.add(tf.keras.layers.Flatten())"
   ]
  },
  {
   "cell_type": "code",
   "execution_count": 12,
   "id": "5932f90e-15e3-4036-9daa-2781d582052c",
   "metadata": {},
   "outputs": [],
   "source": [
    "cnn_model.add(tf.keras.layers.Dense(units=128, activation='relu'))"
   ]
  },
  {
   "cell_type": "code",
   "execution_count": 13,
   "id": "f60fef75-b1e7-45a9-8761-69f626ea5e3c",
   "metadata": {},
   "outputs": [],
   "source": [
    "cnn_model.add(tf.keras.layers.Dense(units=1, activation='sigmoid'))"
   ]
  },
  {
   "cell_type": "code",
   "execution_count": 14,
   "id": "348fe759-b86e-4575-a579-25c842718d5f",
   "metadata": {},
   "outputs": [
    {
     "name": "stdout",
     "output_type": "stream",
     "text": [
      "WARNING:tensorflow:From C:\\Users\\User\\AppData\\Local\\Programs\\Python\\Python311\\Lib\\site-packages\\keras\\src\\optimizers\\__init__.py:309: The name tf.train.Optimizer is deprecated. Please use tf.compat.v1.train.Optimizer instead.\n",
      "\n"
     ]
    }
   ],
   "source": [
    "cnn_model.compile(optimizer = 'adam', loss = 'binary_crossentropy', metrics = ['accuracy'])"
   ]
  },
  {
   "cell_type": "code",
   "execution_count": 16,
   "id": "45931c1b-a6ab-4a1f-be42-c284062ab152",
   "metadata": {},
   "outputs": [
    {
     "name": "stdout",
     "output_type": "stream",
     "text": [
      "Epoch 1/25\n",
      "WARNING:tensorflow:From C:\\Users\\User\\AppData\\Local\\Programs\\Python\\Python311\\Lib\\site-packages\\keras\\src\\utils\\tf_utils.py:492: The name tf.ragged.RaggedTensorValue is deprecated. Please use tf.compat.v1.ragged.RaggedTensorValue instead.\n",
      "\n",
      "WARNING:tensorflow:From C:\\Users\\User\\AppData\\Local\\Programs\\Python\\Python311\\Lib\\site-packages\\keras\\src\\engine\\base_layer_utils.py:384: The name tf.executing_eagerly_outside_functions is deprecated. Please use tf.compat.v1.executing_eagerly_outside_functions instead.\n",
      "\n",
      "250/250 [==============================] - 308s 1s/step - loss: 0.6616 - accuracy: 0.5947 - val_loss: 0.6219 - val_accuracy: 0.6430\n",
      "Epoch 2/25\n",
      "250/250 [==============================] - 121s 483ms/step - loss: 0.5919 - accuracy: 0.6827 - val_loss: 0.5475 - val_accuracy: 0.7220\n",
      "Epoch 3/25\n",
      "250/250 [==============================] - 137s 548ms/step - loss: 0.5494 - accuracy: 0.7165 - val_loss: 0.5262 - val_accuracy: 0.7495\n",
      "Epoch 4/25\n",
      "250/250 [==============================] - 156s 627ms/step - loss: 0.5223 - accuracy: 0.7433 - val_loss: 0.4939 - val_accuracy: 0.7610\n",
      "Epoch 5/25\n",
      "250/250 [==============================] - 60s 239ms/step - loss: 0.5023 - accuracy: 0.7510 - val_loss: 0.4858 - val_accuracy: 0.7705\n",
      "Epoch 6/25\n",
      "250/250 [==============================] - 37s 149ms/step - loss: 0.4921 - accuracy: 0.7591 - val_loss: 0.4758 - val_accuracy: 0.7765\n",
      "Epoch 7/25\n",
      "250/250 [==============================] - 39s 154ms/step - loss: 0.4718 - accuracy: 0.7713 - val_loss: 0.4837 - val_accuracy: 0.7785\n",
      "Epoch 8/25\n",
      "250/250 [==============================] - 48s 191ms/step - loss: 0.4540 - accuracy: 0.7844 - val_loss: 0.4657 - val_accuracy: 0.7835\n",
      "Epoch 9/25\n",
      "250/250 [==============================] - 35s 140ms/step - loss: 0.4468 - accuracy: 0.7857 - val_loss: 0.4467 - val_accuracy: 0.7955\n",
      "Epoch 10/25\n",
      "250/250 [==============================] - 35s 141ms/step - loss: 0.4328 - accuracy: 0.7980 - val_loss: 0.4491 - val_accuracy: 0.7940\n",
      "Epoch 11/25\n",
      "250/250 [==============================] - 61s 245ms/step - loss: 0.4240 - accuracy: 0.8039 - val_loss: 0.4405 - val_accuracy: 0.8005\n",
      "Epoch 12/25\n",
      "250/250 [==============================] - 47s 188ms/step - loss: 0.4053 - accuracy: 0.8155 - val_loss: 0.4384 - val_accuracy: 0.8135\n",
      "Epoch 13/25\n",
      "250/250 [==============================] - 52s 208ms/step - loss: 0.4053 - accuracy: 0.8124 - val_loss: 0.4370 - val_accuracy: 0.8020\n",
      "Epoch 14/25\n",
      "250/250 [==============================] - 35s 141ms/step - loss: 0.3906 - accuracy: 0.8194 - val_loss: 0.4443 - val_accuracy: 0.8070\n",
      "Epoch 15/25\n",
      "250/250 [==============================] - 35s 140ms/step - loss: 0.3784 - accuracy: 0.8290 - val_loss: 0.4485 - val_accuracy: 0.7930\n",
      "Epoch 16/25\n",
      "250/250 [==============================] - 41s 162ms/step - loss: 0.3698 - accuracy: 0.8320 - val_loss: 0.5021 - val_accuracy: 0.7675\n",
      "Epoch 17/25\n",
      "250/250 [==============================] - 43s 174ms/step - loss: 0.3646 - accuracy: 0.8294 - val_loss: 0.4567 - val_accuracy: 0.8065\n",
      "Epoch 18/25\n",
      "250/250 [==============================] - 37s 149ms/step - loss: 0.3573 - accuracy: 0.8374 - val_loss: 0.4420 - val_accuracy: 0.8055\n",
      "Epoch 19/25\n",
      "250/250 [==============================] - 37s 150ms/step - loss: 0.3403 - accuracy: 0.8461 - val_loss: 0.4545 - val_accuracy: 0.8035\n",
      "Epoch 20/25\n",
      "250/250 [==============================] - 37s 150ms/step - loss: 0.3285 - accuracy: 0.8540 - val_loss: 0.4540 - val_accuracy: 0.8040\n",
      "Epoch 21/25\n",
      "250/250 [==============================] - 141s 564ms/step - loss: 0.3172 - accuracy: 0.8627 - val_loss: 0.5197 - val_accuracy: 0.7900\n",
      "Epoch 22/25\n",
      "250/250 [==============================] - 69s 276ms/step - loss: 0.3158 - accuracy: 0.8610 - val_loss: 0.4498 - val_accuracy: 0.8135\n",
      "Epoch 23/25\n",
      "250/250 [==============================] - 38s 151ms/step - loss: 0.3082 - accuracy: 0.8620 - val_loss: 0.4690 - val_accuracy: 0.8025\n",
      "Epoch 24/25\n",
      "250/250 [==============================] - 37s 147ms/step - loss: 0.2950 - accuracy: 0.8699 - val_loss: 0.4473 - val_accuracy: 0.8205\n",
      "Epoch 25/25\n",
      "250/250 [==============================] - 46s 184ms/step - loss: 0.2846 - accuracy: 0.8776 - val_loss: 0.4928 - val_accuracy: 0.8095\n"
     ]
    },
    {
     "data": {
      "text/plain": [
       "<keras.src.callbacks.History at 0x17d19d42550>"
      ]
     },
     "execution_count": 16,
     "metadata": {},
     "output_type": "execute_result"
    }
   ],
   "source": [
    "cnn_model.fit(x = train_generator, validation_data = test_generator, epochs = 25)"
   ]
  },
  {
   "cell_type": "code",
   "execution_count": 46,
   "id": "e22d84f0-b465-43f3-a5dd-cab8ce09fb3c",
   "metadata": {},
   "outputs": [
    {
     "name": "stdout",
     "output_type": "stream",
     "text": [
      "1/1 [==============================] - 0s 31ms/step\n"
     ]
    }
   ],
   "source": [
    "import numpy as np\n",
    "from keras.preprocessing import image\n",
    "test_image = image.load_img('dataset/test_set/dogs/dog.4097.jpg', target_size = (64, 64))\n",
    "test_image = image.img_to_array(test_image)\n",
    "test_image = np.expand_dims(test_image, axis = 0)\n",
    "result = cnn_model.predict(test_image)\n",
    "train_generator.class_indices\n",
    "if result[0][0] == 1:\n",
    "  prediction = 'dog'\n",
    "else:\n",
    "  prediction = 'cat'"
   ]
  },
  {
   "cell_type": "code",
   "execution_count": 47,
   "id": "9bcea904-58d7-4402-ba95-295c856b65ad",
   "metadata": {},
   "outputs": [
    {
     "name": "stdout",
     "output_type": "stream",
     "text": [
      "dog\n"
     ]
    }
   ],
   "source": [
    "print(prediction)"
   ]
  },
  {
   "cell_type": "code",
   "execution_count": 43,
   "id": "21202dee-85b6-49fd-947c-7d09fa4d24f2",
   "metadata": {},
   "outputs": [
    {
     "name": "stdout",
     "output_type": "stream",
     "text": [
      "[[1.]]\n"
     ]
    }
   ],
   "source": [
    "print(result)"
   ]
  },
  {
   "cell_type": "code",
   "execution_count": null,
   "id": "3e2be19c-d41a-4854-a1bc-efdc80948798",
   "metadata": {},
   "outputs": [],
   "source": []
  }
 ],
 "metadata": {
  "kernelspec": {
   "display_name": "Python 3 (ipykernel)",
   "language": "python",
   "name": "python3"
  },
  "language_info": {
   "codemirror_mode": {
    "name": "ipython",
    "version": 3
   },
   "file_extension": ".py",
   "mimetype": "text/x-python",
   "name": "python",
   "nbconvert_exporter": "python",
   "pygments_lexer": "ipython3",
   "version": "3.11.4"
  }
 },
 "nbformat": 4,
 "nbformat_minor": 5
}
